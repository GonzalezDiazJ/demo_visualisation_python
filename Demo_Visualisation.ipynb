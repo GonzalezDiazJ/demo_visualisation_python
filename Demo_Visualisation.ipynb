{
 "cells": [
  {
   "cell_type": "markdown",
   "metadata": {},
   "source": [
    "# Demo - PyConAU 2017 NEISS"
   ]
  },
  {
   "cell_type": "markdown",
   "metadata": {},
   "source": [
    "This notebook was used to demo some plotting libraries in my [PyConAU 2017 talk](https://www.youtube.com/watch?v=6d3Yk7a2qYI).\n",
    "\n",
    "Depending on what version of Jupyter you're running, you may need to launch this notebook with a higher data rate limit so that visualisation libraries are not throttled in communicating with the browser, e.g.\n",
    "\n",
    "`jupyter notebook --NotebookApp.iopub_data_rate_limit=10000000`\n",
    "\n",
    "This issue is referenced [here](https://github.com/jupyter/notebook/issues/2287).\n",
    "\n",
    "### Libraries\n",
    "\n",
    "You can find documentation for libraries used in this notebook at respective home pages:\n",
    "\n",
    "* [Matplotlib](https://matplotlib.org/)\n",
    "* [Seaborn](https://seaborn.pydata.org/)\n",
    "* [Bokeh](http://bokeh.pydata.org/en/latest/)\n",
    "    * Note that the higher-level [bkcharts](https://github.com/bokeh/bkcharts) package mentioned in the talk has been deprecated in favour of Holoviews\n",
    "* [Holoviews](http://holoviews.org/)\n",
    "\n",
    "I'm relatively inexperienced with some of these libraries, so there may well be better ways to set up some of the plots below! \n",
    "\n",
    "And some libraries explicitly discussed, but not demoed:\n",
    "\n",
    "* [Plotly (python API)](https://plot.ly/python/)\n",
    "* [bqplot](https://bqplot.readthedocs.io/en/stable/) - the [examples](https://github.com/bloomberg/bqplot/tree/master/examples) repository is useful\n",
    "* [Altair](https://altair-viz.github.io/)\n",
    "\n",
    "### Data\n",
    "\n",
    "The dataset used in this demo was downloaded from the US [National Electronic Injury Surveillance System](https://www.cpsc.gov/Research--Statistics/NEISS-Injury-Data). For this demo, I used incidents with patient ages 5-80 years, occuring in the month of December 2016.\n",
    "\n",
    "This data was pre-parsed with the assistance of `play_neiss`: https://gist.github.com/philshem/3015de98de26df1681635244c95186aa"
   ]
  },
  {
   "cell_type": "code",
   "execution_count": null,
   "metadata": {
    "ExecuteTime": {
     "end_time": "2017-08-18T11:06:08.998557Z",
     "start_time": "2017-08-18T11:06:08.934113Z"
    },
    "collapsed": true,
    "scrolled": true
   },
   "outputs": [],
   "source": [
    "%matplotlib inline\n",
    "import matplotlib.pyplot as plt"
   ]
  },
  {
   "cell_type": "code",
   "execution_count": null,
   "metadata": {
    "ExecuteTime": {
     "end_time": "2017-08-18T11:06:09.217650Z",
     "start_time": "2017-08-18T11:06:09.207255Z"
    },
    "collapsed": true,
    "scrolled": true
   },
   "outputs": [],
   "source": [
    "import seaborn as sns\n",
    "#sns.reset_orig()  # if we don't want to change default matplotlib rc"
   ]
  },
  {
   "cell_type": "code",
   "execution_count": null,
   "metadata": {
    "ExecuteTime": {
     "end_time": "2017-08-18T11:06:09.814449Z",
     "start_time": "2017-08-18T11:06:09.804734Z"
    },
    "collapsed": true,
    "scrolled": true
   },
   "outputs": [],
   "source": [
    "import bokeh\n",
    "from bokeh.plotting import figure, output_notebook, show\n",
    "from bokeh.models import ColumnDataSource, tools\n",
    "from bokeh.resources import INLINE\n",
    "\n",
    "RESOURCES = None\n",
    "# Use resources=INLINE in bokeh plots to use locally cached Javascript, and render without an internet connection\n",
    "#RESOURCES = INLINE"
   ]
  },
  {
   "cell_type": "code",
   "execution_count": null,
   "metadata": {
    "ExecuteTime": {
     "end_time": "2017-08-18T11:06:10.024683Z",
     "start_time": "2017-08-18T11:06:09.892332Z"
    },
    "collapsed": true
   },
   "outputs": [],
   "source": [
    "import holoviews as hv\n",
    "hv.extension('bokeh', 'matplotlib')"
   ]
  },
  {
   "cell_type": "code",
   "execution_count": null,
   "metadata": {
    "ExecuteTime": {
     "end_time": "2017-08-18T11:06:11.075932Z",
     "start_time": "2017-08-18T11:06:11.071666Z"
    },
    "collapsed": true,
    "scrolled": true
   },
   "outputs": [],
   "source": [
    "import pandas as pd"
   ]
  },
  {
   "cell_type": "markdown",
   "metadata": {},
   "source": [
    "## Read data "
   ]
  },
  {
   "cell_type": "code",
   "execution_count": null,
   "metadata": {
    "ExecuteTime": {
     "end_time": "2017-08-18T11:06:13.255015Z",
     "start_time": "2017-08-18T11:06:12.996950Z"
    },
    "collapsed": true
   },
   "outputs": [],
   "source": [
    "infile = \"neiss.csv\"\n",
    "\n",
    "use_fields = \"case_id trmt_date age narr sex diag body_part disposition location race_text prod1_text fire_involvement hospital_stratum\".split()\n",
    "categorical_fields = \"sex race_text diag body_part disposition location prod1_text fire_involvement hospital_stratum\".split()\n",
    "specified_dtypes = {field:'category' for field in categorical_fields}\n",
    "\n",
    "data = pd.read_table(infile, usecols=use_fields,\n",
    "                     parse_dates=['trmt_date'],\n",
    "                     dtype=specified_dtypes, \n",
    "                     index_col=0)\n",
    "\n",
    "# Add incident_count field to clarify summary statistics\n",
    "data['incident_count'] = 1\n",
    "\n",
    "data.shape"
   ]
  },
  {
   "cell_type": "code",
   "execution_count": null,
   "metadata": {
    "ExecuteTime": {
     "end_time": "2017-08-18T11:06:13.453324Z",
     "start_time": "2017-08-18T11:06:13.391423Z"
    },
    "collapsed": true
   },
   "outputs": [],
   "source": [
    "# Create a short product description for each product, similarly for body parts and diagnosis\n",
    "products = set(data['prod1_text'].unique())\n",
    "short_products = {s:s.split('(')[0].split(',')[0].strip() for s in products}\n",
    "data['product'] = data['prod1_text'].apply(lambda p: short_products[p]).astype('category')\n",
    "\n",
    "body_parts = set(data['body_part'].unique())\n",
    "short_bodyparts = {s:s.split('(')[0].strip() for s in body_parts}\n",
    "data['body_part'] = data['body_part'].apply(lambda b: short_bodyparts[b]).astype('category')\n",
    "\n",
    "# Additionally, collapse all 'Burns' diagnoses\n",
    "diagnoses = set(data['diag'].unique())\n",
    "short_diags = {s:s.split('(')[0].strip() for s in diagnoses}\n",
    "for diag in diagnoses:\n",
    "    if diag[:5]=='Burns':\n",
    "        short_diags[diag] = \"Burns\"\n",
    "data['diagnosis'] = data['diag'].apply(lambda d: short_diags[d]).astype('category')"
   ]
  },
  {
   "cell_type": "code",
   "execution_count": null,
   "metadata": {
    "ExecuteTime": {
     "end_time": "2017-08-18T11:06:14.129042Z",
     "start_time": "2017-08-18T11:06:13.751226Z"
    },
    "collapsed": true
   },
   "outputs": [],
   "source": [
    "# For this demo, I didn't bother with dates.\n",
    "# Instead, work with day-from-start, setting the first day to 1 (this is equiv to day-of-month for our dataset)\n",
    "data['day'] = (data['trmt_date'] - data['trmt_date'].min()).dt.days + 1"
   ]
  },
  {
   "cell_type": "code",
   "execution_count": null,
   "metadata": {
    "ExecuteTime": {
     "end_time": "2017-08-18T11:06:15.166592Z",
     "start_time": "2017-08-18T11:06:15.097934Z"
    },
    "collapsed": true,
    "scrolled": true
   },
   "outputs": [],
   "source": [
    "# Restrict our dataset to top few products\n",
    "NUM_PRODUCTS = 12\n",
    "top_products = set(data['product'].value_counts()[:NUM_PRODUCTS].index)\n",
    "data = data[ data['product'].isin(top_products) ]\n",
    "data['product'].cat.remove_unused_categories(inplace=True)"
   ]
  },
  {
   "cell_type": "code",
   "execution_count": null,
   "metadata": {
    "ExecuteTime": {
     "end_time": "2017-08-18T11:06:16.759235Z",
     "start_time": "2017-08-18T11:06:16.706963Z"
    },
    "collapsed": true,
    "scrolled": true
   },
   "outputs": [],
   "source": [
    "pd.set_option('display.max_colwidth', -1)\n",
    "data.head(3)"
   ]
  },
  {
   "cell_type": "markdown",
   "metadata": {},
   "source": [
    "## Matplotlib "
   ]
  },
  {
   "cell_type": "code",
   "execution_count": null,
   "metadata": {
    "ExecuteTime": {
     "end_time": "2017-08-14T04:25:29.756417Z",
     "start_time": "2017-08-14T04:25:29.750448Z"
    },
    "collapsed": true
   },
   "outputs": [],
   "source": [
    "# Default figure size\n",
    "FIGSIZE = (7,4.5)\n",
    "plt.rcParams['figure.figsize'] = FIGSIZE"
   ]
  },
  {
   "cell_type": "code",
   "execution_count": null,
   "metadata": {
    "ExecuteTime": {
     "end_time": "2017-08-14T04:25:30.977291Z",
     "start_time": "2017-08-14T04:25:30.437356Z"
    },
    "collapsed": true,
    "scrolled": false
   },
   "outputs": [],
   "source": [
    "product_counts = data.groupby('product')['incident_count'].aggregate(sum)\n",
    "\n",
    "#with plt.style.context('classic'):\n",
    "plt.barh(bottom=list(range(len(product_counts))), \n",
    "         width=product_counts,\n",
    "         tick_label=product_counts.index)\n"
   ]
  },
  {
   "cell_type": "markdown",
   "metadata": {},
   "source": [
    "## Seaborn "
   ]
  },
  {
   "cell_type": "code",
   "execution_count": null,
   "metadata": {
    "ExecuteTime": {
     "end_time": "2017-08-14T04:25:36.185127Z",
     "start_time": "2017-08-14T04:25:34.275328Z"
    },
    "collapsed": true,
    "scrolled": false
   },
   "outputs": [],
   "source": [
    "with sns.axes_style('darkgrid'):\n",
    "    sns.barplot(data=data, y='location', x='incident_count', estimator=sum)#, hue=\"sex\")"
   ]
  },
  {
   "cell_type": "code",
   "execution_count": null,
   "metadata": {
    "ExecuteTime": {
     "end_time": "2017-08-14T04:25:37.629908Z",
     "start_time": "2017-08-14T04:25:36.966720Z"
    },
    "collapsed": true
   },
   "outputs": [],
   "source": [
    "table = data.pivot_table(index='body_part', columns='product', \n",
    "                         values='incident_count', aggfunc=sum, fill_value=0)\n",
    "sns.heatmap(table)   # table-10 demonstrates a diverging colour scale - seaborn uses automatically if there are negative numbers"
   ]
  },
  {
   "cell_type": "code",
   "execution_count": null,
   "metadata": {
    "ExecuteTime": {
     "end_time": "2017-08-14T04:25:38.651820Z",
     "start_time": "2017-08-14T04:25:38.150126Z"
    },
    "collapsed": true
   },
   "outputs": [],
   "source": [
    "sns.boxplot(data=data, y='product', x='age')"
   ]
  },
  {
   "cell_type": "code",
   "execution_count": null,
   "metadata": {
    "ExecuteTime": {
     "end_time": "2017-08-14T04:25:39.955332Z",
     "start_time": "2017-08-14T04:25:39.073489Z"
    },
    "collapsed": true
   },
   "outputs": [],
   "source": [
    "# if using kind='scatter', try joint_kws={'alpha': 0.2} to pass an argument down to the \n",
    "# matplotlib scatter call (scatter will still not be a great choice)\n",
    "sns.jointplot(data=data, x='day', y='age', kind='hex')"
   ]
  },
  {
   "cell_type": "markdown",
   "metadata": {},
   "source": [
    "## Bokeh "
   ]
  },
  {
   "cell_type": "code",
   "execution_count": null,
   "metadata": {
    "ExecuteTime": {
     "end_time": "2017-08-18T11:06:20.683011Z",
     "start_time": "2017-08-18T11:06:19.969008Z"
    },
    "collapsed": true
   },
   "outputs": [],
   "source": [
    "# A basic scatter plot - will have pan and zoom\n",
    "\n",
    "subset = data.sample(200)\n",
    "\n",
    "p = figure(width=400, height=300, x_axis_label=\"day\", y_axis_label=\"patient age\")\n",
    "\n",
    "p.circle(subset['day'], subset['age'], size=10, alpha=0.7)\n",
    "\n",
    "output_notebook(resources=RESOURCES)\n",
    "show(p)"
   ]
  },
  {
   "cell_type": "code",
   "execution_count": null,
   "metadata": {
    "ExecuteTime": {
     "end_time": "2017-08-18T11:06:25.330205Z",
     "start_time": "2017-08-18T11:06:25.088998Z"
    },
    "collapsed": true,
    "scrolled": false
   },
   "outputs": [],
   "source": [
    "# Add a legend with click policy 'hide', and a hover tool \n",
    "\n",
    "subset = data.sample(200)\n",
    "\n",
    "# Bokeh probably has a better way to do this than two separate ColumnDataSource objects\n",
    "source_male = ColumnDataSource(subset[subset['sex']=='Male'][\"day age narr\".split()] )\n",
    "source_female = ColumnDataSource(subset[subset['sex']=='Female'][\"day age narr\".split()] )\n",
    "\n",
    "p = figure(width=400, height=300, x_axis_label=\"day\", y_axis_label=\"patient age\")\n",
    "\n",
    "p.circle(source=source_male, x='day', y='age', color='teal', alpha=0.7, size=10, legend='Male')\n",
    "p.circle(source=source_female, x='day', y='age', color='darkorange', alpha=0.7, size=10, legend='Female')\n",
    "\n",
    "p.add_tools(tools.HoverTool(tooltips=[('Narrative', '@narr')]))\n",
    "\n",
    "p.legend.click_policy='hide'\n",
    "\n",
    "output_notebook(resources=RESOURCES)\n",
    "show(p)"
   ]
  },
  {
   "cell_type": "code",
   "execution_count": null,
   "metadata": {
    "ExecuteTime": {
     "end_time": "2017-08-18T11:06:40.647622Z",
     "start_time": "2017-08-18T11:06:40.362582Z"
    },
    "collapsed": true
   },
   "outputs": [],
   "source": [
    "# Two plots with linked axes\n",
    "\n",
    "subset = data.sample(500)\n",
    "\n",
    "source1 = ColumnDataSource(subset[subset['product']=='Basketball'][\"day age narr\".split()] )\n",
    "source2 = ColumnDataSource(subset[subset['product']=='Stairs or steps'][\"day age narr\".split()] )\n",
    "\n",
    "p1 = figure(width=300, height=300, title='Basketball',\n",
    "            x_axis_label=\"day\", y_axis_label=\"patient age\")\n",
    "\n",
    "p1.circle(source=source1, x='day', y='age', size=10, alpha=0.7)\n",
    "\n",
    "p2 = figure(width=300, height=300, title='Stairs',\n",
    "            x_axis_label=\"day\", y_axis_label=\"patient age\",\n",
    "            x_range=p1.x_range, y_range=p1.y_range)\n",
    "\n",
    "p2.circle(source=source2, x='day', y='age', size=10, alpha=0.7)\n",
    "\n",
    "l = bokeh.layouts.row(p1,p2)\n",
    "\n",
    "output_notebook(resources=RESOURCES)\n",
    "show(l)"
   ]
  },
  {
   "cell_type": "code",
   "execution_count": null,
   "metadata": {
    "ExecuteTime": {
     "end_time": "2017-08-18T11:10:09.695643Z",
     "start_time": "2017-08-18T11:10:09.148919Z"
    },
    "collapsed": true
   },
   "outputs": [],
   "source": [
    "# Two plots, linked sources for selection\n",
    "# (also linked age axis)\n",
    "\n",
    "subset = data.sample(500)\n",
    "\n",
    "source = ColumnDataSource(subset[\"day age narr\".split()] )\n",
    "source.add(subset['product'].astype('str'), 'product')\n",
    "\n",
    "product_list = list(subset['product'].unique())\n",
    "\n",
    "p1 = figure(width=300, height=300,\n",
    "            tools=\"box_zoom,box_select,lasso_select,reset\",\n",
    "            x_axis_label=\"day\", y_axis_label=\"patient age\")\n",
    "p1.circle(source=source, x='day', y='age', \n",
    "          size=10, alpha=0.4, \n",
    "          selection_color='red', selection_fill_alpha=0.4)\n",
    "\n",
    "p2 = figure(width=400, height=300, \n",
    "            tools=\"box_zoom,box_select,lasso_select,reset\",\n",
    "            y_range=product_list, x_range = p1.x_range,\n",
    "            x_axis_label=\"day\")\n",
    "p2.circle(source=source, x='day', y='product', \n",
    "          size=10, alpha=0.4, \n",
    "          selection_color='red', selection_fill_alpha=0.4)\n",
    "\n",
    "l = bokeh.layouts.row(p1,p2)\n",
    "\n",
    "output_notebook(resources=RESOURCES)\n",
    "show(l)"
   ]
  },
  {
   "cell_type": "markdown",
   "metadata": {
    "ExecuteTime": {
     "end_time": "2017-07-30T06:32:40.601451Z",
     "start_time": "2017-07-30T06:32:40.439825Z"
    }
   },
   "source": [
    "## Holoviews"
   ]
  },
  {
   "cell_type": "code",
   "execution_count": null,
   "metadata": {
    "ExecuteTime": {
     "end_time": "2017-08-14T04:28:06.342518Z",
     "start_time": "2017-08-14T04:28:06.316632Z"
    },
    "collapsed": true
   },
   "outputs": [],
   "source": [
    "# If you want to use less points, replace data with e.g. data.sample(2000)\n",
    "\n",
    "ds = hv.Dataset(data, kdims=[\"sex\",\"product\",\"body_part\"],\n",
    "                      vdims=[\"age\",\"day\",\"incident_count\",\"narr\"])"
   ]
  },
  {
   "cell_type": "code",
   "execution_count": null,
   "metadata": {
    "ExecuteTime": {
     "end_time": "2017-08-14T04:28:07.297053Z",
     "start_time": "2017-08-14T04:28:07.287100Z"
    },
    "collapsed": true
   },
   "outputs": [],
   "source": [
    "ds"
   ]
  },
  {
   "cell_type": "code",
   "execution_count": null,
   "metadata": {
    "ExecuteTime": {
     "end_time": "2017-08-14T04:28:08.670481Z",
     "start_time": "2017-08-14T04:28:08.105835Z"
    },
    "collapsed": true,
    "scrolled": false
   },
   "outputs": [],
   "source": [
    "%%output backend='bokeh' \n",
    "%%opts Scatter (size=5 alpha=0.5)\n",
    "\n",
    "scatter = ds.reindex(kdims=['product'], vdims=['age', 'day']).to(hv.Scatter, \"day\", \"age\") \n",
    "scatter   #.layout('product')"
   ]
  },
  {
   "cell_type": "code",
   "execution_count": null,
   "metadata": {
    "ExecuteTime": {
     "end_time": "2017-08-14T04:28:24.028048Z",
     "start_time": "2017-08-14T04:28:09.829531Z"
    },
    "collapsed": true,
    "scrolled": true
   },
   "outputs": [],
   "source": [
    "%%output backend='bokeh'\n",
    "%%opts Scatter [tools=['hover']] (size=5 alpha=0.5)\n",
    "\n",
    "# Scatter plot with hover tool that includes narrative\n",
    "scatter = ds.to(hv.Scatter, \"day\", [\"age\",\"narr\"]).overlay('sex')\n",
    "\n",
    "scatter"
   ]
  },
  {
   "cell_type": "code",
   "execution_count": null,
   "metadata": {
    "ExecuteTime": {
     "end_time": "2017-08-14T04:29:43.359293Z",
     "start_time": "2017-08-14T04:29:15.484019Z"
    },
    "collapsed": true,
    "scrolled": false
   },
   "outputs": [],
   "source": [
    "%%output backend='bokeh'\n",
    "%%opts Bars [xrotation=90 tools=['hover']]\n",
    "%%opts Scatter [tools=['hover']] (size=5 alpha=0.5)\n",
    "\n",
    "# the above is ok, but we'd like to know how many incidents are in each body_part for current product - add a bar plot\n",
    "# retain incident_count as our value dimension, then aggregate it over body_part and product, then specify a bar plot over body_part\n",
    "bars = ds.reindex(kdims=[\"product\",\"body_part\"],vdims=['incident_count']).aggregate(['body_part', 'product'], function=sum).to(hv.Bars, kdims=['body_part'], vdims=['incident_count'])\n",
    "\n",
    "scatter = ds.to(hv.Scatter, \"day\", [\"age\",\"narr\"]).overlay('sex')\n",
    "\n",
    "bars + scatter"
   ]
  },
  {
   "cell_type": "code",
   "execution_count": null,
   "metadata": {
    "ExecuteTime": {
     "end_time": "2017-08-14T04:30:17.416184Z",
     "start_time": "2017-08-14T04:30:17.039277Z"
    },
    "collapsed": true
   },
   "outputs": [],
   "source": [
    "%%output backend='bokeh' \n",
    "%%opts HeatMap [colorbar=True width=600 tools=['hover'] toolbar='above' xrotation=45] (cmap='Blues')\n",
    "\n",
    "# A heatmap with a hover tool showing vdim and kdim values\n",
    "# Our first HeatMap vdim, incident_count, is used to colour the heatmap, but our second, mean age, is available to the tooltip too\n",
    "aggregated_values = ds.reindex(kdims=[\"body_part\",\"product\"], vdims=[\"incident_count\", \"age\"]).aggregate([\"body_part\",\"product\"], function={'incident_count':'sum', 'age':'mean'})\n",
    "aggregated_values.to(hv.HeatMap, kdims=[\"body_part\",\"product\"], vdims=[\"incident_count\", \"age\"])"
   ]
  }
 ],
 "metadata": {
  "anaconda-cloud": {},
  "hide_input": false,
  "kernelspec": {
   "display_name": "Python [default]",
   "language": "python",
   "name": "python3"
  },
  "language_info": {
   "codemirror_mode": {
    "name": "ipython",
    "version": 3
   },
   "file_extension": ".py",
   "mimetype": "text/x-python",
   "name": "python",
   "nbconvert_exporter": "python",
   "pygments_lexer": "ipython3",
   "version": "3.6.3"
  },
  "toc": {
   "colors": {
    "hover_highlight": "#DAA520",
    "running_highlight": "#FF0000",
    "selected_highlight": "#FFD700"
   },
   "moveMenuLeft": true,
   "nav_menu": {
    "height": "66px",
    "width": "252px"
   },
   "navigate_menu": true,
   "number_sections": true,
   "sideBar": true,
   "threshold": 4,
   "toc_cell": false,
   "toc_section_display": "block",
   "toc_window_display": true
  },
  "varInspector": {
   "cols": {
    "lenName": 16,
    "lenType": 16,
    "lenVar": 40
   },
   "kernels_config": {
    "python": {
     "delete_cmd_postfix": "",
     "delete_cmd_prefix": "del ",
     "library": "var_list.py",
     "varRefreshCmd": "print(var_dic_list())"
    },
    "r": {
     "delete_cmd_postfix": ") ",
     "delete_cmd_prefix": "rm(",
     "library": "var_list.r",
     "varRefreshCmd": "cat(var_dic_list()) "
    }
   },
   "types_to_exclude": [
    "module",
    "function",
    "builtin_function_or_method",
    "instance",
    "_Feature"
   ],
   "window_display": false
  }
 },
 "nbformat": 4,
 "nbformat_minor": 2
}
